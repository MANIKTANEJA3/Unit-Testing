{
  "nbformat": 4,
  "nbformat_minor": 0,
  "metadata": {
    "colab": {
      "name": "Python practice week 1.ipynb",
      "provenance": []
    },
    "kernelspec": {
      "name": "python3",
      "display_name": "Python 3"
    }
  },
  "cells": [
    {
      "cell_type": "code",
      "metadata": {
        "id": "g0vCPDljH5MJ",
        "colab_type": "code",
        "colab": {}
      },
      "source": [
        "class Shirt:\n",
        "    # a method is inside off a class whereas the function is outside of the class\n",
        "    def __init__(self, shirt_color, shirt_size, shirt_style, shirt_price):\n",
        "        self.color = shirt_color\n",
        "        self.size = shirt_size\n",
        "        self.style = shirt_style\n",
        "        self.price = shirt_price\n",
        "    \n",
        "    def change_price(self, new_price):\n",
        "    \n",
        "        self.price = new_price\n",
        "        \n",
        "    def discount(self, discount):\n",
        "\n",
        "        return self.price * (1 - discount)"
      ],
      "execution_count": null,
      "outputs": []
    },
    {
      "cell_type": "code",
      "metadata": {
        "id": "KpZgSWtGIC8F",
        "colab_type": "code",
        "colab": {
          "base_uri": "https://localhost:8080/",
          "height": 34
        },
        "outputId": "22c3dabe-1dd2-4812-9f6a-817d98833434"
      },
      "source": [
        "Shirt('red','S','long_sleeve',20)"
      ],
      "execution_count": null,
      "outputs": [
        {
          "output_type": "execute_result",
          "data": {
            "text/plain": [
              "<__main__.Shirt at 0x7fadc4140eb8>"
            ]
          },
          "metadata": {
            "tags": []
          },
          "execution_count": 32
        }
      ]
    },
    {
      "cell_type": "code",
      "metadata": {
        "id": "zzcHNI2zI8h4",
        "colab_type": "code",
        "colab": {}
      },
      "source": [
        "shirt_one = Shirt('red','S','long_sleeve',20)"
      ],
      "execution_count": null,
      "outputs": []
    },
    {
      "cell_type": "code",
      "metadata": {
        "id": "WVAL7oPBJBll",
        "colab_type": "code",
        "colab": {
          "base_uri": "https://localhost:8080/",
          "height": 34
        },
        "outputId": "e15d7c04-2d42-4c13-b272-07e52cdaf87c"
      },
      "source": [
        "shirt_one"
      ],
      "execution_count": null,
      "outputs": [
        {
          "output_type": "execute_result",
          "data": {
            "text/plain": [
              "<__main__.Shirt at 0x7fadc4140f60>"
            ]
          },
          "metadata": {
            "tags": []
          },
          "execution_count": 34
        }
      ]
    },
    {
      "cell_type": "code",
      "metadata": {
        "id": "ZgTlxXYFJDha",
        "colab_type": "code",
        "colab": {
          "base_uri": "https://localhost:8080/",
          "height": 34
        },
        "outputId": "952373ee-7248-49c9-f4eb-e3f828f7d5c2"
      },
      "source": [
        "print(shirt_one.price)"
      ],
      "execution_count": null,
      "outputs": [
        {
          "output_type": "stream",
          "text": [
            "20\n"
          ],
          "name": "stdout"
        }
      ]
    },
    {
      "cell_type": "code",
      "metadata": {
        "id": "Q3PV71K6K0T7",
        "colab_type": "code",
        "colab": {}
      },
      "source": [
        "shirt_one.change_price(10)"
      ],
      "execution_count": null,
      "outputs": []
    },
    {
      "cell_type": "code",
      "metadata": {
        "id": "uZhyDAOALP6s",
        "colab_type": "code",
        "colab": {
          "base_uri": "https://localhost:8080/",
          "height": 34
        },
        "outputId": "8589992d-c647-4c22-9bf9-fd0556577010"
      },
      "source": [
        "print(shirt_one.price)"
      ],
      "execution_count": null,
      "outputs": [
        {
          "output_type": "stream",
          "text": [
            "10\n"
          ],
          "name": "stdout"
        }
      ]
    },
    {
      "cell_type": "code",
      "metadata": {
        "id": "PPRrg8zJLZsN",
        "colab_type": "code",
        "colab": {
          "base_uri": "https://localhost:8080/",
          "height": 34
        },
        "outputId": "c560b9eb-aafd-45d3-8300-71fe0f6d8f83"
      },
      "source": [
        "print(shirt_one.discount(0.12))"
      ],
      "execution_count": null,
      "outputs": [
        {
          "output_type": "stream",
          "text": [
            "8.8\n"
          ],
          "name": "stdout"
        }
      ]
    },
    {
      "cell_type": "code",
      "metadata": {
        "id": "yGdkyEKkLupE",
        "colab_type": "code",
        "colab": {}
      },
      "source": [
        "shirt_two = Shirt('orange','L','short_sleeve',10)"
      ],
      "execution_count": null,
      "outputs": []
    },
    {
      "cell_type": "code",
      "metadata": {
        "id": "jB9hCiV4L8-r",
        "colab_type": "code",
        "colab": {
          "base_uri": "https://localhost:8080/",
          "height": 34
        },
        "outputId": "f2fc37b6-d260-4ca9-9c56-e4864079385e"
      },
      "source": [
        "shirt_two"
      ],
      "execution_count": null,
      "outputs": [
        {
          "output_type": "execute_result",
          "data": {
            "text/plain": [
              "<__main__.Shirt at 0x7fadc4140278>"
            ]
          },
          "metadata": {
            "tags": []
          },
          "execution_count": 40
        }
      ]
    },
    {
      "cell_type": "code",
      "metadata": {
        "id": "3OCyaIsLL_SN",
        "colab_type": "code",
        "colab": {}
      },
      "source": [
        "print(shirt_one.price+shirt_two.price)"
      ],
      "execution_count": null,
      "outputs": []
    },
    {
      "cell_type": "code",
      "metadata": {
        "id": "H1gMhuWYMEnI",
        "colab_type": "code",
        "colab": {}
      },
      "source": [
        "total = shirt_one.price + shirt_two.price"
      ],
      "execution_count": null,
      "outputs": []
    },
    {
      "cell_type": "code",
      "metadata": {
        "id": "rbmI12A7MLoE",
        "colab_type": "code",
        "colab": {
          "base_uri": "https://localhost:8080/",
          "height": 34
        },
        "outputId": "81bfff9f-237b-4c23-ed78-eea496b0a6eb"
      },
      "source": [
        "total"
      ],
      "execution_count": null,
      "outputs": [
        {
          "output_type": "execute_result",
          "data": {
            "text/plain": [
              "20"
            ]
          },
          "metadata": {
            "tags": []
          },
          "execution_count": 43
        }
      ]
    },
    {
      "cell_type": "code",
      "metadata": {
        "id": "A93DxXHQMM-_",
        "colab_type": "code",
        "colab": {}
      },
      "source": [
        "total_discount = shirt_one.discount(0.14) + shirt_two.discount(0.06)"
      ],
      "execution_count": null,
      "outputs": []
    },
    {
      "cell_type": "code",
      "metadata": {
        "id": "KdXoBqcyMcwM",
        "colab_type": "code",
        "colab": {
          "base_uri": "https://localhost:8080/",
          "height": 34
        },
        "outputId": "0d82c53c-1cfd-414d-f80b-94932e12ed0a"
      },
      "source": [
        "total_discount"
      ],
      "execution_count": null,
      "outputs": [
        {
          "output_type": "execute_result",
          "data": {
            "text/plain": [
              "18.0"
            ]
          },
          "metadata": {
            "tags": []
          },
          "execution_count": 45
        }
      ]
    },
    {
      "cell_type": "code",
      "metadata": {
        "id": "nKwKo_1bNDe0",
        "colab_type": "code",
        "colab": {}
      },
      "source": [
        "def run_tests(shirt_one, shirt_two, total_cost, total_discount):\n",
        " \n",
        "    # Unit tests to check your solution\n",
        "    assert shirt_one.price == 10, 'shirt_one price should be 10'\n",
        "    assert shirt_one.color == 'red', ' shirt_one should be red'\n",
        "    assert shirt_one.style == 'long-sleeve', 'shirt_one should be long_sleeve style'\n",
        "    assert shirt_one.size == 'S', 'shirt_one size should be S'\n",
        "\n",
        "    assert shirt_two.price == 10, 'shirt_two price should be 10'\n",
        "    assert shirt_two.color == 'orange', 'shirt_two should be orange'\n",
        "    assert shirt_two.style == 'short-sleeve', 'shirt_two should be short_sleeve style'\n",
        "    assert shirt_two.size == 'L', 'shirt_two size should be L'\n",
        "\n",
        "    assert total_cost == 20, 'the total_cost of both shirts should be 20'\n",
        "    \n",
        "    assert round(total_discount) == 18, 'total_discount should be 18.0'"
      ],
      "execution_count": null,
      "outputs": []
    },
    {
      "cell_type": "code",
      "metadata": {
        "id": "naVxkpfqMevq",
        "colab_type": "code",
        "colab": {
          "base_uri": "https://localhost:8080/",
          "height": 279
        },
        "outputId": "1a9080f1-9545-4376-cd02-780ee0a3b744"
      },
      "source": [
        "run_tests(shirt_one, shirt_two, total, total_discount)"
      ],
      "execution_count": null,
      "outputs": [
        {
          "output_type": "error",
          "ename": "AssertionError",
          "evalue": "ignored",
          "traceback": [
            "\u001b[0;31m---------------------------------------------------------------------------\u001b[0m",
            "\u001b[0;31mAssertionError\u001b[0m                            Traceback (most recent call last)",
            "\u001b[0;32m<ipython-input-47-f6a58da1123e>\u001b[0m in \u001b[0;36m<module>\u001b[0;34m()\u001b[0m\n\u001b[0;32m----> 1\u001b[0;31m \u001b[0mrun_tests\u001b[0m\u001b[0;34m(\u001b[0m\u001b[0mshirt_one\u001b[0m\u001b[0;34m,\u001b[0m \u001b[0mshirt_two\u001b[0m\u001b[0;34m,\u001b[0m \u001b[0mtotal\u001b[0m\u001b[0;34m,\u001b[0m \u001b[0mtotal_discount\u001b[0m\u001b[0;34m)\u001b[0m\u001b[0;34m\u001b[0m\u001b[0;34m\u001b[0m\u001b[0m\n\u001b[0m",
            "\u001b[0;32m<ipython-input-46-c941f3feac99>\u001b[0m in \u001b[0;36mrun_tests\u001b[0;34m(shirt_one, shirt_two, total_cost, total_discount)\u001b[0m\n\u001b[1;32m      4\u001b[0m     \u001b[0;32massert\u001b[0m \u001b[0mshirt_one\u001b[0m\u001b[0;34m.\u001b[0m\u001b[0mprice\u001b[0m \u001b[0;34m==\u001b[0m \u001b[0;36m10\u001b[0m\u001b[0;34m,\u001b[0m \u001b[0;34m'shirt_one price should be 10'\u001b[0m\u001b[0;34m\u001b[0m\u001b[0;34m\u001b[0m\u001b[0m\n\u001b[1;32m      5\u001b[0m     \u001b[0;32massert\u001b[0m \u001b[0mshirt_one\u001b[0m\u001b[0;34m.\u001b[0m\u001b[0mcolor\u001b[0m \u001b[0;34m==\u001b[0m \u001b[0;34m'red'\u001b[0m\u001b[0;34m,\u001b[0m \u001b[0;34m' shirt_one should be red'\u001b[0m\u001b[0;34m\u001b[0m\u001b[0;34m\u001b[0m\u001b[0m\n\u001b[0;32m----> 6\u001b[0;31m     \u001b[0;32massert\u001b[0m \u001b[0mshirt_one\u001b[0m\u001b[0;34m.\u001b[0m\u001b[0mstyle\u001b[0m \u001b[0;34m==\u001b[0m \u001b[0;34m'long-sleeve'\u001b[0m\u001b[0;34m,\u001b[0m \u001b[0;34m'shirt_one should be long_sleeve style'\u001b[0m\u001b[0;34m\u001b[0m\u001b[0;34m\u001b[0m\u001b[0m\n\u001b[0m\u001b[1;32m      7\u001b[0m     \u001b[0;32massert\u001b[0m \u001b[0mshirt_one\u001b[0m\u001b[0;34m.\u001b[0m\u001b[0msize\u001b[0m \u001b[0;34m==\u001b[0m \u001b[0;34m'S'\u001b[0m\u001b[0;34m,\u001b[0m \u001b[0;34m'shirt_one size should be S'\u001b[0m\u001b[0;34m\u001b[0m\u001b[0;34m\u001b[0m\u001b[0m\n\u001b[1;32m      8\u001b[0m \u001b[0;34m\u001b[0m\u001b[0m\n",
            "\u001b[0;31mAssertionError\u001b[0m: shirt_one should be long_sleeve style"
          ]
        }
      ]
    }
  ]
}